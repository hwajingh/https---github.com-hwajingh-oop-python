{
 "cells": [
  {
   "cell_type": "code",
   "execution_count": 3,
   "id": "f3abde6a",
   "metadata": {},
   "outputs": [
    {
     "ename": "IndentationError",
     "evalue": "unexpected indent (2530669441.py, line 46)",
     "output_type": "error",
     "traceback": [
      "\u001b[0;36m  File \u001b[0;32m\"/var/folders/_z/t91cwskx271gxms_015d7qq00000gn/T/ipykernel_32013/2530669441.py\"\u001b[0;36m, line \u001b[0;32m46\u001b[0m\n\u001b[0;31m    thisdict.update({item: price})\u001b[0m\n\u001b[0m    ^\u001b[0m\n\u001b[0;31mIndentationError\u001b[0m\u001b[0;31m:\u001b[0m unexpected indent\n"
     ]
    }
   ],
   "source": [
    "# from IPython.display import clear_output\n",
    "\n",
    "# # Ask the user 5 bits of input: Do you want to : Show/Add/Delete/clear or Quit?\n",
    "\n",
    "# def shoppingcart():\n",
    "#     emptyset = set() \n",
    "    \n",
    "#     while True:\n",
    "#         move = input(\"Do you want to : Show/Add/Delete/clear or Quit? \")\n",
    "#         if move.lower() == 'show':\n",
    "#             print(f\"The shopping list has: \")\n",
    "#             for x in emptyset:\n",
    "#                 print(x,  end =\" \")\n",
    "#         elif move.lower() == \"add\":\n",
    "#             item = input(\"what to add? \")\n",
    "#             emptyset.add(item)\n",
    "#         elif move.lower()== \"delete\":\n",
    "#             rm = input(\"what to remove \")\n",
    "#             emptyset.remove(rm)\n",
    "#         elif move.lower()==\"clear\":\n",
    "#             emptyset.clear()\n",
    "#         elif move.lower() == 'quit':\n",
    "#             print(f\"The list has: \")\n",
    "#             for stuff in emptyset:\n",
    "#                 print(stuff,  end =\" \")\n",
    "#             break\n",
    "#         else:\n",
    "#             clear_output()\n",
    "            \n",
    "# shoppingcart()\n",
    "\n",
    "\n",
    "\n",
    "\n",
    "class shoppingCart:\n",
    "    def __init__(self, price, item):\n",
    "        self.item = item\n",
    "        self.price = price\n",
    "    \n",
    "    def show(self):\n",
    "            print(f\"The shopping list has: \")\n",
    "            for x in thisdict:\n",
    "                print(x,  end =\" \")\n",
    "    def add(self, item, price):\n",
    "         item = input(\"what to add? \")\n",
    "            thisdict.update({item: price})\n",
    "    def delete(self, item):\n",
    "        item = input(\"what to delete ?\")\n",
    "        del thisdict[item]\n",
    "    def clear()\n",
    "        thisdict.clear()\n",
    "    def quit(self):\n",
    "        print(f\"The list has: \")\n",
    "           for x in thisdict:\n",
    "                  print(x)\n",
    "\n",
    "            \n",
    "firstCustomer = shoppingCart(5.99, 3, \"oranges\")\n",
    "\n",
    "\n",
    "\n"
   ]
  },
  {
   "cell_type": "code",
   "execution_count": null,
   "id": "fe9ae226",
   "metadata": {},
   "outputs": [],
   "source": []
  }
 ],
 "metadata": {
  "kernelspec": {
   "display_name": "Python 3 (ipykernel)",
   "language": "python",
   "name": "python3"
  },
  "language_info": {
   "codemirror_mode": {
    "name": "ipython",
    "version": 3
   },
   "file_extension": ".py",
   "mimetype": "text/x-python",
   "name": "python",
   "nbconvert_exporter": "python",
   "pygments_lexer": "ipython3",
   "version": "3.9.7"
  }
 },
 "nbformat": 4,
 "nbformat_minor": 5
}
