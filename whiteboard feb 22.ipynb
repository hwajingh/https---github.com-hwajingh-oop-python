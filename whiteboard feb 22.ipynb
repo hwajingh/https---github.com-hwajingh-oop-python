{
 "cells": [
  {
   "cell_type": "code",
   "execution_count": null,
   "id": "3e53b4d3",
   "metadata": {},
   "outputs": [],
   "source": [
    "Length of Last word\n",
    "Create a function that given a string as a parameter of upper/lower case letters and empty space characters (\" \"), return the length of the last word. Meaning, the word that appears far most to the right if we loop through the words.\n",
    "Example Input: \"Hello World\"\n",
    "Example Output: 5"
   ]
  },
  {
   "cell_type": "code",
   "execution_count": 8,
   "id": "2a7c9f8f",
   "metadata": {},
   "outputs": [
    {
     "name": "stdout",
     "output_type": "stream",
     "text": [
      "inputsomething 2223323\n",
      "7\n"
     ]
    }
   ],
   "source": [
    "\n",
    "newlist = []\n",
    "\n",
    "def lastwordlength(stringg):\n",
    "    newlist= stringg.split()\n",
    "    count = len(newlist[len(newlist)-1]) #-1 gives the last item \n",
    "    print(count)\n",
    "\n",
    "\n",
    "stringg= str(input(\"inputsomething \"))\n",
    "lastwordlength(stringg)"
   ]
  },
  {
   "cell_type": "code",
   "execution_count": null,
   "id": "38b864ad",
   "metadata": {},
   "outputs": [],
   "source": []
  }
 ],
 "metadata": {
  "kernelspec": {
   "display_name": "Python 3 (ipykernel)",
   "language": "python",
   "name": "python3"
  },
  "language_info": {
   "codemirror_mode": {
    "name": "ipython",
    "version": 3
   },
   "file_extension": ".py",
   "mimetype": "text/x-python",
   "name": "python",
   "nbconvert_exporter": "python",
   "pygments_lexer": "ipython3",
   "version": "3.9.7"
  }
 },
 "nbformat": 4,
 "nbformat_minor": 5
}
